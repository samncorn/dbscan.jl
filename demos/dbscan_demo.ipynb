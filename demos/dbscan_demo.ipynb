{
 "cells": [
  {
   "cell_type": "code",
   "execution_count": 1,
   "metadata": {},
   "outputs": [
    {
     "name": "stderr",
     "output_type": "stream",
     "text": [
      "\u001b[32m\u001b[1m  Activating\u001b[22m\u001b[39m project at `~/projects/julia-projects/dbscan`\n"
     ]
    }
   ],
   "source": [
    "# activate the project environment\n",
    "using Pkg; Pkg.activate(joinpath(@__DIR__, \"..\"));"
   ]
  },
  {
   "cell_type": "code",
   "execution_count": 2,
   "metadata": {},
   "outputs": [],
   "source": [
    "using NearestNeighbors\n",
    "using dbscan\n",
    "using StaticArrays\n",
    "using Dates\n",
    "using CairoMakie\n",
    "using LoggingExtras"
   ]
  },
  {
   "cell_type": "code",
   "execution_count": 3,
   "metadata": {},
   "outputs": [
    {
     "data": {
      "text/plain": [
       "MinLevelLogger{FormatLogger, LogLevel}(FormatLogger(var\"#11#12\"(), VSCodeServer.IJuliaCore.IJuliaStdio{Base.PipeEndpoint, typeof(VSCodeServer.io_send_callback)}(IOContext(Base.PipeEndpoint(RawFD(16) open, 0 bytes waiting)), VSCodeServer.io_send_callback), true), Debug)"
      ]
     },
     "metadata": {},
     "output_type": "display_data"
    }
   ],
   "source": [
    "fmt_logger = FormatLogger(stdout) do io, args\n",
    "    # Write the module, level and message only\n",
    "    println(io, args._module, \" | \", \"[\", args.level, \"] \", args.message)\n",
    "end\n",
    "debuglogger = MinLevelLogger(fmt_logger, Logging.Debug)"
   ]
  },
  {
   "cell_type": "code",
   "execution_count": 4,
   "metadata": {},
   "outputs": [
    {
     "name": "stdout",
     "output_type": "stream",
     "text": [
      "Main | [Debug] test\n"
     ]
    }
   ],
   "source": [
    "with_logger(debuglogger) do\n",
    "    @debug \"test\"\n",
    "end"
   ]
  },
  {
   "cell_type": "code",
   "execution_count": 5,
   "metadata": {},
   "outputs": [
    {
     "data": {
      "text/plain": [
       "1000000-element Vector{SVector{2, Float64}}:\n",
       " [0.9909686338666918, 0.02325971722100384]\n",
       " [0.211705321380955, 0.23665454809990272]\n",
       " [0.6056921398961004, 0.6088515621171336]\n",
       " [0.6416826694639222, 0.055006212075434435]\n",
       " [0.8291302568448486, 0.12654606200191776]\n",
       " [0.32521167444729226, 0.9616001540279605]\n",
       " [0.3721133809813014, 0.199936149162262]\n",
       " [0.8510038039603874, 0.2811343008432735]\n",
       " [0.288593203916786, 0.6571844854388201]\n",
       " [0.4294179626427631, 0.5793165316821285]\n",
       " ⋮\n",
       " [0.46392048284460097, 0.03849489433794884]\n",
       " [0.9757557998006551, 0.08193662562396331]\n",
       " [0.3275099215894113, 0.6940169087789338]\n",
       " [0.6097248456348641, 0.029120983233418607]\n",
       " [0.29233828605306067, 0.8615416734505078]\n",
       " [0.6311523849938895, 0.5188879510813214]\n",
       " [0.6703455726202402, 0.4991423785769611]\n",
       " [0.10081940283925561, 0.1285668828979355]\n",
       " [0.6766865896553885, 0.27723439297098995]"
      ]
     },
     "metadata": {},
     "output_type": "display_data"
    }
   ],
   "source": [
    "# points = [SVector{3}(rand(3)) for i in 1:1_000_000]\n",
    "# points = map(i -> rand(3), 1:1_000_000)\n",
    "# points = [rand(3) for _ in 1:1_000_000]\n",
    "points = rand(SVector{2, Float64}, 1_000_000)"
   ]
  },
  {
   "cell_type": "code",
   "execution_count": 6,
   "metadata": {},
   "outputs": [
    {
     "data": {
      "text/plain": [
       "3"
      ]
     },
     "metadata": {},
     "output_type": "display_data"
    }
   ],
   "source": [
    "cluster_radius = 0.0005\n",
    "min_pts = 3"
   ]
  },
  {
   "cell_type": "code",
   "execution_count": 7,
   "metadata": {},
   "outputs": [
    {
     "name": "stdout",
     "output_type": "stream",
     "text": [
      "dbscan | [Debug] 390 milliseconds to build kdtree\n",
      "dbscan | [Debug] performing range searches\n",
      "dbscan | [Debug] starting thread 1\n",
      "dbscan | [Debug] 735 milliseconds to process thread 1\n",
      "dbscan | [Debug] empty period to merge clusters 1\n",
      "dbscan | [Debug] updating labels to cluster roots\n",
      "dbscan | [Debug] 30 milliseconds to update labels\n",
      "dbscan | [Debug] DBSCAN completed\n"
     ]
    },
    {
     "data": {
      "text/plain": [
       "ValueIterator for a Dict{Int64, Vector{Int64}} with 21687 entries. Values:\n",
       "  [141832, 505576, 636263, 781693]\n",
       "  [441319, 472238, 812776, 826794, 996189]\n",
       "  [17062, 115317, 749359, 963767]\n",
       "  [405927, 453581, 721069, 812871]\n",
       "  [395033, 595372, 740357, 800752, 932499]\n",
       "  [20596, 660051, 740223, 827303]\n",
       "  [174505, 217243, 389149, 616146, 852173]\n",
       "  [305292, 386601, 507544, 894880]\n",
       "  [90614, 128978, 423264, 445008, 457552]\n",
       "  [207472, 247993, 573410, 782978, 959174]\n",
       "  [261577, 347930, 850779, 997124]\n",
       "  [32163, 101339, 288568, 320769, 627813, 987141]\n",
       "  [315022, 404551, 501068, 649492]\n",
       "  [223367, 317434, 386745, 675592, 838286, 964182]\n",
       "  [385819, 390745, 411449, 733257, 915819]\n",
       "  [366276, 476787, 913777, 960399]\n",
       "  [547147, 595188, 632150, 769383]\n",
       "  [24026, 97095, 333536, 672173, 810056]\n",
       "  [104239, 593144, 730072, 752179]\n",
       "  ⋮"
      ]
     },
     "metadata": {},
     "output_type": "display_data"
    }
   ],
   "source": [
    "with_logger(debuglogger) do \n",
    "    clusters = dbscan.DBSCAN(points, cluster_radius, min_pts; n_threads = 1)\n",
    "end"
   ]
  },
  {
   "cell_type": "code",
   "execution_count": 8,
   "metadata": {},
   "outputs": [
    {
     "name": "stdout",
     "output_type": "stream",
     "text": [
      "dbscan | [Debug] 365 milliseconds to build kdtree\n",
      "dbscan | [Debug] performing range searches\n",
      "dbscan | [Debug] starting thread 2\n",
      "dbscan | [Debug] starting thread 1\n",
      "dbscan | [Debug] starting thread 3\n",
      "dbscan | [Debug] starting thread 4\n",
      "dbscan | [Debug] 208 milliseconds to process thread 4\n",
      "dbscan | [Debug] 218 milliseconds to process thread 2\n",
      "dbscan | [Debug] 219 milliseconds to process thread 3\n",
      "dbscan | [Debug] 219 milliseconds to process thread 1\n",
      "dbscan | [Debug] 1 millisecond to merge clusters 1\n",
      "dbscan | [Debug] 1 millisecond to merge clusters 2\n",
      "dbscan | [Debug] 1 millisecond to merge clusters 3\n",
      "dbscan | [Debug] 1 millisecond to merge clusters 4\n",
      "dbscan | [Debug] updating labels to cluster roots\n",
      "dbscan | [Debug] 3 milliseconds to update labels\n",
      "dbscan | [Debug] DBSCAN completed\n"
     ]
    },
    {
     "data": {
      "text/plain": [
       "ValueIterator for a Dict{Int64, Vector{Int64}} with 21687 entries. Values:\n",
       "  [141832, 505576, 636263, 781693]\n",
       "  [441319, 472238, 812776, 826794, 996189]\n",
       "  [17062, 115317, 749359, 963767]\n",
       "  [405927, 453581, 721069, 812871]\n",
       "  [395033, 595372, 740357, 800752, 932499]\n",
       "  [20596, 660051, 740223, 827303]\n",
       "  [174505, 217243, 389149, 616146, 852173]\n",
       "  [305292, 386601, 507544, 894880]\n",
       "  [90614, 128978, 423264, 445008, 457552]\n",
       "  [207472, 247993, 573410, 782978, 959174]\n",
       "  [261577, 347930, 850779, 997124]\n",
       "  [32163, 101339, 288568, 320769, 627813, 987141]\n",
       "  [315022, 404551, 501068, 649492]\n",
       "  [223367, 317434, 386745, 675592, 838286, 964182]\n",
       "  [385819, 390745, 411449, 733257, 915819]\n",
       "  [366276, 476787, 913777, 960399]\n",
       "  [547147, 595188, 632150, 769383]\n",
       "  [24026, 97095, 333536, 672173, 810056]\n",
       "  [104239, 593144, 730072, 752179]\n",
       "  ⋮"
      ]
     },
     "metadata": {},
     "output_type": "display_data"
    }
   ],
   "source": [
    "clusters = with_logger(debuglogger) do \n",
    "    dbscan.DBSCAN(points, cluster_radius, min_pts; n_threads = 4)\n",
    "end"
   ]
  },
  {
   "cell_type": "code",
   "execution_count": 9,
   "metadata": {},
   "outputs": [],
   "source": [
    "# for i in eachindex(clusters)\n",
    "#     if clusters[i] != 0 \n",
    "#         println(i, ' ', clusters[i])\n",
    "#         j = dbscan.find_root(i, clusters)\n",
    "#         clusters[i] = j\n",
    "#     end\n",
    "# end"
   ]
  },
  {
   "cell_type": "code",
   "execution_count": 10,
   "metadata": {},
   "outputs": [],
   "source": [
    "# for i in eachindex(clusters)\n",
    "#     if clusters[i] != 0 \n",
    "#         println(i, ' ', clusters[i])\n",
    "#     end\n",
    "# end"
   ]
  },
  {
   "cell_type": "code",
   "execution_count": 11,
   "metadata": {},
   "outputs": [
    {
     "data": {
      "text/plain": [
       "4"
      ]
     },
     "metadata": {},
     "output_type": "display_data"
    }
   ],
   "source": [
    "minimum(map(length, clusters))"
   ]
  },
  {
   "cell_type": "code",
   "execution_count": 12,
   "metadata": {},
   "outputs": [
    {
     "data": {
      "text/plain": [
       "KDTree{SVector{2, Float64}, Euclidean, Float64, SVector{2, Float64}}\n",
       "  Number of points: 1000000\n",
       "  Dimensions: 2\n",
       "  Metric: Euclidean(0.0)\n",
       "  Reordered: true"
      ]
     },
     "metadata": {},
     "output_type": "display_data"
    }
   ],
   "source": [
    "tree = KDTree(points)"
   ]
  },
  {
   "cell_type": "code",
   "execution_count": 13,
   "metadata": {},
   "outputs": [],
   "source": [
    "# inrange(tree, points[263613], cluster_radius)"
   ]
  },
  {
   "cell_type": "code",
   "execution_count": 14,
   "metadata": {},
   "outputs": [
    {
     "data": {
      "text/plain": [
       "draw_circle! (generic function with 1 method)"
      ]
     },
     "metadata": {},
     "output_type": "display_data"
    }
   ],
   "source": [
    "function draw_circle!(ax, x0, y0, r)\n",
    "    t = 0:0.01:2pi\n",
    "    x = x0 .+ r .* cos.(t)\n",
    "    y = y0 .+ r .* sin.(t)\n",
    "    lines!(ax, x, y; color = :black, alpha = 0.1)\n",
    "end"
   ]
  },
  {
   "cell_type": "code",
   "execution_count": 15,
   "metadata": {},
   "outputs": [],
   "source": [
    "# f = Figure()\n",
    "# ax = Axis(f[1, 1])\n",
    "\n",
    "# scatter!(points; color = :gray, markersize = 2.0)\n",
    "# for (id, cluster) in enumerate(clusters)\n",
    "#     scatter!(points[cluster])\n",
    "#     for (x0, y0) in points[cluster]\n",
    "#         draw_circle!(ax, x0, y0, cluster_radius)\n",
    "#     end\n",
    "# end\n",
    "\n",
    "# f"
   ]
  },
  {
   "cell_type": "code",
   "execution_count": 16,
   "metadata": {},
   "outputs": [
    {
     "data": {
      "text/plain": [
       "run_tests (generic function with 1 method)"
      ]
     },
     "metadata": {},
     "output_type": "display_data"
    }
   ],
   "source": [
    "# wrap timings in a function to avoid global variables causing problems\n",
    "function run_tests(N; n_threads = 1)\n",
    "    # times = zeros(N)\n",
    "    times = []\n",
    "    for i in 1:N\n",
    "        points = rand(SVector{3, Float64}, 1_000_000)\n",
    "        t0 = now()\n",
    "        labels = dbscan.DBSCAN(points, 0.0005, 3, n_threads = n_threads)\n",
    "        tf = now()\n",
    "        push!(times, canonicalize(tf - t0))\n",
    "    end\n",
    "    return times\n",
    "end"
   ]
  },
  {
   "cell_type": "code",
   "execution_count": 17,
   "metadata": {},
   "outputs": [
    {
     "data": {
      "text/plain": [
       "10-element Vector{Any}:\n",
       " 1 second, 739 milliseconds\n",
       " 1 second, 523 milliseconds\n",
       " 1 second, 371 milliseconds\n",
       " 1 second, 333 milliseconds\n",
       " 1 second, 548 milliseconds\n",
       " 1 second, 498 milliseconds\n",
       " 1 second, 277 milliseconds\n",
       " 1 second, 297 milliseconds\n",
       " 1 second, 445 milliseconds\n",
       " 1 second, 320 milliseconds"
      ]
     },
     "metadata": {},
     "output_type": "display_data"
    }
   ],
   "source": [
    "times_1 = run_tests(10; n_threads = 1)"
   ]
  },
  {
   "cell_type": "code",
   "execution_count": 18,
   "metadata": {},
   "outputs": [
    {
     "data": {
      "text/plain": [
       "10-element Vector{Any}:\n",
       " 1 second, 92 milliseconds\n",
       " 972 milliseconds\n",
       " 1 second, 119 milliseconds\n",
       " 935 milliseconds\n",
       " 972 milliseconds\n",
       " 919 milliseconds\n",
       " 1 second, 4 milliseconds\n",
       " 959 milliseconds\n",
       " 1 second, 87 milliseconds\n",
       " 982 milliseconds"
      ]
     },
     "metadata": {},
     "output_type": "display_data"
    }
   ],
   "source": [
    "times_2 = run_tests(10; n_threads = 2)"
   ]
  },
  {
   "cell_type": "code",
   "execution_count": 19,
   "metadata": {},
   "outputs": [
    {
     "data": {
      "text/plain": [
       "10-element Vector{Any}:\n",
       " 781 milliseconds\n",
       " 854 milliseconds\n",
       " 948 milliseconds\n",
       " 800 milliseconds\n",
       " 973 milliseconds\n",
       " 832 milliseconds\n",
       " 968 milliseconds\n",
       " 802 milliseconds\n",
       " 787 milliseconds\n",
       " 791 milliseconds"
      ]
     },
     "metadata": {},
     "output_type": "display_data"
    }
   ],
   "source": [
    "times_4 = run_tests(10; n_threads = 4)"
   ]
  },
  {
   "cell_type": "code",
   "execution_count": 20,
   "metadata": {},
   "outputs": [],
   "source": [
    "# smaller dataset for plotting"
   ]
  },
  {
   "cell_type": "code",
   "execution_count": 21,
   "metadata": {},
   "outputs": [],
   "source": []
  }
 ],
 "metadata": {
  "kernelspec": {
   "display_name": "Julia 1.11.4",
   "language": "julia",
   "name": "julia-1.11"
  },
  "language_info": {
   "file_extension": ".jl",
   "mimetype": "application/julia",
   "name": "julia",
   "version": "1.11.4"
  }
 },
 "nbformat": 4,
 "nbformat_minor": 2
}
