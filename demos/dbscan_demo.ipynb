{
 "cells": [
  {
   "cell_type": "code",
   "execution_count": 1,
   "metadata": {},
   "outputs": [
    {
     "name": "stderr",
     "output_type": "stream",
     "text": [
      "\u001b[32m\u001b[1m  Activating\u001b[22m\u001b[39m project at `~/projects/julia-projects/dbscan`\n"
     ]
    }
   ],
   "source": [
    "# activate the project environment\n",
    "using Pkg; Pkg.activate(joinpath(@__DIR__, \"..\"));"
   ]
  },
  {
   "cell_type": "code",
   "execution_count": 6,
   "metadata": {},
   "outputs": [],
   "source": [
    "using NearestNeighbors\n",
    "using dbscan\n",
    "using StaticArrays\n",
    "using Dates"
   ]
  },
  {
   "cell_type": "code",
   "execution_count": 3,
   "metadata": {},
   "outputs": [
    {
     "data": {
      "text/plain": [
       "1000000-element Vector{SVector{3, Float64}}:\n",
       " [0.8978414181071017, 0.2334835651968209, 0.4961077000730659]\n",
       " [0.9375717161530257, 0.338701768569888, 0.939861704758527]\n",
       " [0.2895604154793344, 0.03735108468063664, 0.20991596477214935]\n",
       " [0.10238764592592708, 0.5021790120897107, 0.18646212611173807]\n",
       " [0.30338850582375576, 0.26839223385844246, 0.5238345503654466]\n",
       " [0.3285232961036183, 0.04390640024549253, 0.9951814106206902]\n",
       " [0.7043175833567811, 0.11663314841775019, 0.6575408397566688]\n",
       " [0.8289846940061493, 0.673626445765438, 0.48517362809856324]\n",
       " [0.8905295840839083, 0.618145811081623, 0.3729209899360707]\n",
       " [0.9952859570454994, 0.6077366083104163, 0.7463926728682917]\n",
       " ⋮\n",
       " [0.07990364414343132, 0.9193200370273642, 0.3735910972114035]\n",
       " [0.990085338800328, 0.4174843568704997, 0.13646045007686713]\n",
       " [0.8240903123647852, 0.6169725156427633, 0.8682500649736019]\n",
       " [0.3280941402206391, 0.021324179943215116, 0.5171733437979027]\n",
       " [0.8310022384123119, 0.8039810270305947, 0.15781465188165855]\n",
       " [0.7769198799081336, 0.23282262524604314, 0.8936294179666484]\n",
       " [0.21976167283664516, 0.16591634585308768, 0.9956497981687987]\n",
       " [0.88912196765791, 0.013254749308117875, 0.6620864434617121]\n",
       " [0.5534987248414441, 0.46614047130222225, 0.3265388073551687]"
      ]
     },
     "metadata": {},
     "output_type": "display_data"
    }
   ],
   "source": [
    "# points = [SVector{3}(rand(3)) for i in 1:1_000_000]\n",
    "# points = map(i -> rand(3), 1:1_000_000)\n",
    "# points = [rand(3) for _ in 1:1_000_000]\n",
    "points = rand(SVector{3, Float64}, 1_000_000)"
   ]
  },
  {
   "cell_type": "code",
   "execution_count": 4,
   "metadata": {},
   "outputs": [
    {
     "data": {
      "text/plain": [
       "1000000-element Vector{Int64}:\n",
       " 814699\n",
       " 707049\n",
       " 475408\n",
       " 889542\n",
       " 961030\n",
       " 882536\n",
       " 988987\n",
       " 849405\n",
       " 824324\n",
       " 962854\n",
       "      ⋮\n",
       " 999992\n",
       " 999993\n",
       " 999994\n",
       "      0\n",
       " 999996\n",
       " 999997\n",
       " 999998\n",
       " 999999\n",
       "      0"
      ]
     },
     "metadata": {},
     "output_type": "display_data"
    }
   ],
   "source": [
    "dbscan.DBSCAN(points, 0.01, 3)"
   ]
  },
  {
   "cell_type": "code",
   "execution_count": 10,
   "metadata": {},
   "outputs": [
    {
     "data": {
      "text/plain": [
       "run_tests (generic function with 1 method)"
      ]
     },
     "metadata": {},
     "output_type": "display_data"
    }
   ],
   "source": [
    "function run_tests(N)\n",
    "    times = zeros(N)\n",
    "    for i in 1:N\n",
    "        points = rand(SVector{3, Float64}, 1_000_000)\n",
    "        t0 = now()\n",
    "        labels = dbscan.DBSCAN(points, 0.01, 3)\n",
    "        tf = now()\n",
    "        times[i] = (tf - t0).value / 1000\n",
    "    end\n",
    "    return times\n",
    "end"
   ]
  },
  {
   "cell_type": "code",
   "execution_count": 12,
   "metadata": {},
   "outputs": [
    {
     "data": {
      "text/plain": [
       "10-element Vector{Float64}:\n",
       " 1.254\n",
       " 1.286\n",
       " 1.264\n",
       " 1.208\n",
       " 1.184\n",
       " 1.238\n",
       " 1.169\n",
       " 1.14\n",
       " 1.174\n",
       " 1.291"
      ]
     },
     "metadata": {},
     "output_type": "display_data"
    }
   ],
   "source": [
    "times = run_tests(10)"
   ]
  },
  {
   "cell_type": "code",
   "execution_count": null,
   "metadata": {},
   "outputs": [],
   "source": [
    "# smaller dataset for plotting"
   ]
  }
 ],
 "metadata": {
  "kernelspec": {
   "display_name": "Julia 1.11.3",
   "language": "julia",
   "name": "julia-1.11"
  },
  "language_info": {
   "file_extension": ".jl",
   "mimetype": "application/julia",
   "name": "julia",
   "version": "1.11.3"
  }
 },
 "nbformat": 4,
 "nbformat_minor": 2
}
