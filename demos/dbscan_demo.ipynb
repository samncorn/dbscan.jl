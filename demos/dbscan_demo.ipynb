{
 "cells": [
  {
   "cell_type": "code",
   "execution_count": 1,
   "metadata": {},
   "outputs": [
    {
     "name": "stderr",
     "output_type": "stream",
     "text": [
      "\u001b[32m\u001b[1m  Activating\u001b[22m\u001b[39m project at `~/projects/julia-projects/dbscan`\n"
     ]
    }
   ],
   "source": [
    "# activate the project environment\n",
    "using Pkg; Pkg.activate(joinpath(@__DIR__, \"..\"));"
   ]
  },
  {
   "cell_type": "code",
   "execution_count": 2,
   "metadata": {},
   "outputs": [],
   "source": [
    "using NearestNeighbors\n",
    "using dbscan\n",
    "using StaticArrays\n",
    "using Dates"
   ]
  },
  {
   "cell_type": "code",
   "execution_count": 3,
   "metadata": {},
   "outputs": [
    {
     "data": {
      "text/plain": [
       "1000000-element Vector{SVector{3, Float64}}:\n",
       " [0.41818580984114806, 0.511225159800065, 0.1053746526452558]\n",
       " [0.21496318123785407, 0.9270647006237394, 0.030875945794987092]\n",
       " [0.8791605841404367, 0.3003996877354672, 0.9678938117469734]\n",
       " [0.9931664010398962, 0.5158879726569758, 0.8321192410621853]\n",
       " [0.03997747351765224, 0.192953529018151, 0.14327209190041323]\n",
       " [0.6569607409101775, 0.746324774065101, 0.3749117436218494]\n",
       " [0.8533871851476981, 0.7174209686900972, 0.9588561715361719]\n",
       " [0.404234908950207, 0.593249986003003, 0.435270556298323]\n",
       " [0.81044259673191, 0.89630195199058, 0.6375473064830703]\n",
       " [0.6933324596970801, 0.8772629835257686, 0.3931583277850974]\n",
       " ⋮\n",
       " [0.5904273505600103, 0.57959898419157, 0.5497836285943685]\n",
       " [0.6341411088571606, 0.21669092313996619, 0.9218466893362992]\n",
       " [0.06836494888908318, 0.1272938028699705, 0.7070336569633565]\n",
       " [0.4477200827261063, 0.03852009268364798, 0.1858964547860491]\n",
       " [0.1370917199362729, 0.48995428829242094, 0.1097349557143592]\n",
       " [0.6413784637648435, 0.14423656331287837, 0.7671646721897685]\n",
       " [0.28843953609653983, 0.3806451582064254, 0.563904773130322]\n",
       " [0.7241668552294757, 0.08132148671546557, 0.5808177150664292]\n",
       " [0.3039576350494786, 0.7263897148476569, 0.585298106511239]"
      ]
     },
     "metadata": {},
     "output_type": "display_data"
    }
   ],
   "source": [
    "# points = [SVector{3}(rand(3)) for i in 1:1_000_000]\n",
    "# points = map(i -> rand(3), 1:1_000_000)\n",
    "# points = [rand(3) for _ in 1:1_000_000]\n",
    "points = rand(SVector{3, Float64}, 1_000_000)"
   ]
  },
  {
   "cell_type": "code",
   "execution_count": 4,
   "metadata": {},
   "outputs": [
    {
     "data": {
      "text/plain": [
       "1000000-element Vector{Int64}:\n",
       " 931040\n",
       " 998179\n",
       " 990070\n",
       " 796125\n",
       " 885884\n",
       " 768707\n",
       " 925755\n",
       " 762914\n",
       " 858920\n",
       " 975523\n",
       "      ⋮\n",
       " 999992\n",
       " 999993\n",
       " 999994\n",
       " 999995\n",
       " 999996\n",
       " 999997\n",
       " 999998\n",
       " 999999\n",
       "      0"
      ]
     },
     "metadata": {},
     "output_type": "display_data"
    }
   ],
   "source": [
    "chunk2 = dbscan.DBSCAN(points, 0.01, 3; n_chunks = 4)"
   ]
  },
  {
   "cell_type": "code",
   "execution_count": 5,
   "metadata": {},
   "outputs": [
    {
     "data": {
      "text/plain": [
       "run_tests (generic function with 1 method)"
      ]
     },
     "metadata": {},
     "output_type": "display_data"
    }
   ],
   "source": [
    "# wrap timings in a function to avoid global variables causing problems\n",
    "function run_tests(N; n_chunks = 1)\n",
    "    times = zeros(N)\n",
    "    for i in 1:N\n",
    "        points = rand(SVector{3, Float64}, 1_000_000)\n",
    "        t0 = now()\n",
    "        labels = dbscan.DBSCAN(points, 0.01, 3, n_chunks = n_chunks)\n",
    "        tf = now()\n",
    "        times[i] = (tf - t0).value / 1000\n",
    "    end\n",
    "    return times\n",
    "end"
   ]
  },
  {
   "cell_type": "code",
   "execution_count": 9,
   "metadata": {},
   "outputs": [
    {
     "data": {
      "text/plain": [
       "10-element Vector{Float64}:\n",
       " 1.282\n",
       " 1.325\n",
       " 1.322\n",
       " 1.33\n",
       " 1.314\n",
       " 1.36\n",
       " 1.269\n",
       " 1.261\n",
       " 1.304\n",
       " 1.452"
      ]
     },
     "metadata": {},
     "output_type": "display_data"
    }
   ],
   "source": [
    "times_1 = run_tests(10; n_chunks = 1)"
   ]
  },
  {
   "cell_type": "code",
   "execution_count": 10,
   "metadata": {},
   "outputs": [
    {
     "data": {
      "text/plain": [
       "10-element Vector{Float64}:\n",
       " 0.91\n",
       " 0.939\n",
       " 0.828\n",
       " 0.802\n",
       " 0.854\n",
       " 0.854\n",
       " 0.847\n",
       " 0.852\n",
       " 0.888\n",
       " 0.839"
      ]
     },
     "metadata": {},
     "output_type": "display_data"
    }
   ],
   "source": [
    "times_2 = run_tests(10; n_chunks = 2)"
   ]
  },
  {
   "cell_type": "code",
   "execution_count": 11,
   "metadata": {},
   "outputs": [
    {
     "data": {
      "text/plain": [
       "10-element Vector{Float64}:\n",
       " 0.671\n",
       " 0.664\n",
       " 0.667\n",
       " 0.645\n",
       " 0.621\n",
       " 0.704\n",
       " 0.672\n",
       " 0.626\n",
       " 0.624\n",
       " 0.644"
      ]
     },
     "metadata": {},
     "output_type": "display_data"
    }
   ],
   "source": [
    "times_4 = run_tests(10; n_chunks = 4)"
   ]
  },
  {
   "cell_type": "code",
   "execution_count": 14,
   "metadata": {},
   "outputs": [
    {
     "data": {
      "text/plain": [
       "10-element Vector{Float64}:\n",
       " 6.27\n",
       " 6.43\n",
       " 6.32\n",
       " 6.04\n",
       " 5.92\n",
       " 6.1899999999999995\n",
       " 5.845000000000001\n",
       " 5.699999999999999\n",
       " 5.869999999999999\n",
       " 6.455"
      ]
     },
     "metadata": {},
     "output_type": "display_data"
    }
   ],
   "source": [
    "# smaller dataset for plotting"
   ]
  },
  {
   "cell_type": "code",
   "execution_count": null,
   "metadata": {},
   "outputs": [],
   "source": []
  }
 ],
 "metadata": {
  "kernelspec": {
   "display_name": "Julia 1.11.3",
   "language": "julia",
   "name": "julia-1.11"
  },
  "language_info": {
   "file_extension": ".jl",
   "mimetype": "application/julia",
   "name": "julia",
   "version": "1.11.3"
  }
 },
 "nbformat": 4,
 "nbformat_minor": 2
}
