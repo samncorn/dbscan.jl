{
 "cells": [
  {
   "cell_type": "code",
   "execution_count": 1,
   "metadata": {},
   "outputs": [
    {
     "name": "stderr",
     "output_type": "stream",
     "text": [
      "\u001b[32m\u001b[1m  Activating\u001b[22m\u001b[39m project at `~/projects/julia-projects/dbscan`\n"
     ]
    }
   ],
   "source": [
    "# activate the project environment\n",
    "using Pkg; Pkg.activate(joinpath(@__DIR__, \"..\"));"
   ]
  },
  {
   "cell_type": "code",
   "execution_count": 2,
   "metadata": {},
   "outputs": [],
   "source": [
    "using NearestNeighbors\n",
    "using dbscan\n",
    "using StaticArrays\n",
    "using Dates\n",
    "using CairoMakie\n",
    "using LoggingExtras"
   ]
  },
  {
   "cell_type": "code",
   "execution_count": 3,
   "metadata": {},
   "outputs": [
    {
     "data": {
      "text/plain": [
       "MinLevelLogger{FormatLogger, LogLevel}(FormatLogger(var\"#11#12\"(), VSCodeServer.IJuliaCore.IJuliaStdio{Base.PipeEndpoint, typeof(VSCodeServer.io_send_callback)}(IOContext(Base.PipeEndpoint(RawFD(16) open, 0 bytes waiting)), VSCodeServer.io_send_callback), true), Debug)"
      ]
     },
     "metadata": {},
     "output_type": "display_data"
    }
   ],
   "source": [
    "fmt_logger = FormatLogger(stdout) do io, args\n",
    "    # Write the module, level and message only\n",
    "    println(io, args._module, \" | \", \"[\", args.level, \"] \", args.message)\n",
    "end\n",
    "debuglogger = MinLevelLogger(fmt_logger, Logging.Debug)"
   ]
  },
  {
   "cell_type": "code",
   "execution_count": 4,
   "metadata": {},
   "outputs": [
    {
     "name": "stdout",
     "output_type": "stream",
     "text": [
      "Main | [Debug] test\n"
     ]
    }
   ],
   "source": [
    "with_logger(debuglogger) do\n",
    "    @debug \"test\"\n",
    "end"
   ]
  },
  {
   "cell_type": "code",
   "execution_count": 5,
   "metadata": {},
   "outputs": [
    {
     "data": {
      "text/plain": [
       "1000000-element Vector{SVector{2, Float64}}:\n",
       " [0.41944535293789764, 0.7748462892841721]\n",
       " [0.11015513556679479, 0.5992713825334546]\n",
       " [0.6528374395421539, 0.6733820035155462]\n",
       " [0.29083240570550073, 0.7971193690874131]\n",
       " [0.9503840884812856, 0.2704416416392377]\n",
       " [0.9805558203421374, 0.7691900047302844]\n",
       " [0.4081539475795909, 0.5010693722419971]\n",
       " [0.7475565645738004, 0.8836602373486051]\n",
       " [0.3522738917042597, 0.43560637450910167]\n",
       " [0.5413059186492146, 0.807140124270942]\n",
       " ⋮\n",
       " [0.668381689117044, 0.4929243385754788]\n",
       " [0.680522046088059, 0.18272539329793802]\n",
       " [0.939308795395123, 0.8278274031944424]\n",
       " [0.7366314277084444, 0.9114243657481882]\n",
       " [0.09910615801049927, 0.753048408162902]\n",
       " [0.7911650468763552, 0.5873259628100225]\n",
       " [0.005716493337293738, 0.3271723545874228]\n",
       " [0.0078020872374516825, 0.409308289668336]\n",
       " [0.841006897819883, 0.5783098048552827]"
      ]
     },
     "metadata": {},
     "output_type": "display_data"
    }
   ],
   "source": [
    "# points = [SVector{3}(rand(3)) for i in 1:1_000_000]\n",
    "# points = map(i -> rand(3), 1:1_000_000)\n",
    "# points = [rand(3) for _ in 1:1_000_000]\n",
    "points = rand(SVector{2, Float64}, 1_000_000)"
   ]
  },
  {
   "cell_type": "code",
   "execution_count": 6,
   "metadata": {},
   "outputs": [
    {
     "data": {
      "text/plain": [
       "3"
      ]
     },
     "metadata": {},
     "output_type": "display_data"
    }
   ],
   "source": [
    "cluster_radius = 0.0005\n",
    "min_pts = 3"
   ]
  },
  {
   "cell_type": "code",
   "execution_count": 7,
   "metadata": {},
   "outputs": [
    {
     "name": "stdout",
     "output_type": "stream",
     "text": [
      "dbscan | [Debug] 284 milliseconds to build kdtree\n",
      "dbscan | [Debug] performing range searches\n",
      "dbscan | [Debug] starting thread 1\n",
      "dbscan | [Debug] 564 milliseconds to process thread 1\n",
      "dbscan | [Debug] 70 milliseconds to merge clusters 1\n",
      "dbscan | [Debug] updating labels to cluster roots\n",
      "dbscan | [Debug] 20 milliseconds to update labels\n",
      "dbscan | [Debug] DBSCAN completed\n"
     ]
    },
    {
     "data": {
      "text/plain": [
       "ValueIterator for a Dict{Int64, Vector{Int64}} with 21597 entries. Values:\n",
       "  [80466, 631442, 669205, 894512]\n",
       "  [132410, 153795, 404213, 477400, 569539]\n",
       "  [305994, 534774, 614257, 666911]\n",
       "  [29498, 363245, 535745, 969756]\n",
       "  [42593, 90375, 188182, 545776, 863443, 977344]\n",
       "  [21328, 481253, 647479, 720432, 829441]\n",
       "  [31332, 261438, 307222, 552449]\n",
       "  [77867, 234406, 346167, 627526, 686051, 716720]\n",
       "  [128362, 131911, 239729, 422830, 561542, 633870]\n",
       "  [268038, 698128, 808986, 851596]\n",
       "  [433556, 443528, 558980, 763621]\n",
       "  [294743, 320741, 724343, 912499]\n",
       "  [114796, 120722, 520671, 664870]\n",
       "  [97123, 215750, 234536, 284559]\n",
       "  [191119, 360452, 747196, 864253]\n",
       "  [403039, 566985, 838769, 948534]\n",
       "  [513573, 663231, 850879, 988760]\n",
       "  [151514, 647456, 706527, 941272]\n",
       "  [32332, 128007, 538817, 948987]\n",
       "  ⋮"
      ]
     },
     "metadata": {},
     "output_type": "display_data"
    }
   ],
   "source": [
    "with_logger(debuglogger) do \n",
    "    clusters = dbscan.DBSCAN(points, cluster_radius, min_pts; n_threads = 1)\n",
    "end"
   ]
  },
  {
   "cell_type": "code",
   "execution_count": 8,
   "metadata": {},
   "outputs": [
    {
     "name": "stdout",
     "output_type": "stream",
     "text": [
      "dbscan | [Debug] 296 milliseconds to build kdtree\n",
      "dbscan | [Debug] performing range searches\n",
      "dbscan | [Debug] starting thread 2\n",
      "dbscan | [Debug] starting thread 1\n",
      "dbscan | [Debug] starting thread 4\n",
      "dbscan | [Debug] starting thread 3\n",
      "dbscan | [Debug] 136 milliseconds to process thread 2\n",
      "dbscan | [Debug] 146 milliseconds to process thread 3\n",
      "dbscan | [Debug] 154 milliseconds to process thread 4\n",
      "dbscan | [Debug] 162 milliseconds to process thread 1\n",
      "dbscan | [Debug] 77 milliseconds to merge clusters 1\n",
      "dbscan | [Debug] 16 milliseconds to merge clusters 2\n",
      "dbscan | [Debug] 14 milliseconds to merge clusters 3\n",
      "dbscan | [Debug] 15 milliseconds to merge clusters 4\n",
      "dbscan | [Debug] updating labels to cluster roots\n",
      "dbscan | [Debug] 2 milliseconds to update labels\n",
      "dbscan | [Debug] DBSCAN completed\n"
     ]
    },
    {
     "data": {
      "text/plain": [
       "ValueIterator for a Dict{Int64, Vector{Int64}} with 21597 entries. Values:\n",
       "  [132410, 153795, 404213, 477400, 569539]\n",
       "  [305994, 534774, 614257, 666911]\n",
       "  [29498, 363245, 535745, 969756]\n",
       "  [301083, 492150, 887802, 953809]\n",
       "  [77867, 234406, 346167, 627526, 686051, 716720]\n",
       "  [433556, 443528, 558980, 763621]\n",
       "  [128362, 131911, 239729, 422830, 561542, 633870]\n",
       "  [647383, 684158, 872362, 933654]\n",
       "  [59501, 492728, 500237, 863129]\n",
       "  [86344, 122784, 368760, 485153, 839510, 989519]\n",
       "  [89060, 100656, 286743, 993723]\n",
       "  [294743, 320741, 724343, 912499]\n",
       "  [397003, 567019, 700406, 843019]\n",
       "  [114796, 120722, 520671, 664870]\n",
       "  [403039, 566985, 838769, 948534]\n",
       "  [415485, 435736, 902829, 919396]\n",
       "  [14410, 662553, 894378, 940139]\n",
       "  [68820, 243762, 692781, 841418]\n",
       "  [513573, 663231, 850879, 988760]\n",
       "  ⋮"
      ]
     },
     "metadata": {},
     "output_type": "display_data"
    }
   ],
   "source": [
    "clusters = with_logger(debuglogger) do \n",
    "    dbscan.DBSCAN(points, cluster_radius, min_pts; n_threads = 4)\n",
    "end"
   ]
  },
  {
   "cell_type": "code",
   "execution_count": 9,
   "metadata": {},
   "outputs": [],
   "source": [
    "# for i in eachindex(clusters)\n",
    "#     if clusters[i] != 0 \n",
    "#         println(i, ' ', clusters[i])\n",
    "#         j = dbscan.find_root(i, clusters)\n",
    "#         clusters[i] = j\n",
    "#     end\n",
    "# end"
   ]
  },
  {
   "cell_type": "code",
   "execution_count": 10,
   "metadata": {},
   "outputs": [],
   "source": [
    "# for i in eachindex(clusters)\n",
    "#     if clusters[i] != 0 \n",
    "#         println(i, ' ', clusters[i])\n",
    "#     end\n",
    "# end"
   ]
  },
  {
   "cell_type": "code",
   "execution_count": 11,
   "metadata": {},
   "outputs": [
    {
     "data": {
      "text/plain": [
       "4"
      ]
     },
     "metadata": {},
     "output_type": "display_data"
    }
   ],
   "source": [
    "minimum(map(length, clusters))"
   ]
  },
  {
   "cell_type": "code",
   "execution_count": 12,
   "metadata": {},
   "outputs": [
    {
     "data": {
      "text/plain": [
       "KDTree{SVector{2, Float64}, Euclidean, Float64, SVector{2, Float64}}\n",
       "  Number of points: 1000000\n",
       "  Dimensions: 2\n",
       "  Metric: Euclidean(0.0)\n",
       "  Reordered: true"
      ]
     },
     "metadata": {},
     "output_type": "display_data"
    }
   ],
   "source": [
    "tree = KDTree(points)"
   ]
  },
  {
   "cell_type": "code",
   "execution_count": 13,
   "metadata": {},
   "outputs": [],
   "source": [
    "# inrange(tree, points[263613], cluster_radius)"
   ]
  },
  {
   "cell_type": "code",
   "execution_count": 14,
   "metadata": {},
   "outputs": [
    {
     "data": {
      "text/plain": [
       "draw_circle! (generic function with 1 method)"
      ]
     },
     "metadata": {},
     "output_type": "display_data"
    }
   ],
   "source": [
    "function draw_circle!(ax, x0, y0, r)\n",
    "    t = 0:0.01:2pi\n",
    "    x = x0 .+ r .* cos.(t)\n",
    "    y = y0 .+ r .* sin.(t)\n",
    "    lines!(ax, x, y; color = :black, alpha = 0.1)\n",
    "end"
   ]
  },
  {
   "cell_type": "code",
   "execution_count": 15,
   "metadata": {},
   "outputs": [],
   "source": [
    "# f = Figure()\n",
    "# ax = Axis(f[1, 1])\n",
    "\n",
    "# scatter!(points; color = :gray, markersize = 2.0)\n",
    "# for (id, cluster) in enumerate(clusters)\n",
    "#     scatter!(points[cluster])\n",
    "#     for (x0, y0) in points[cluster]\n",
    "#         draw_circle!(ax, x0, y0, cluster_radius)\n",
    "#     end\n",
    "# end\n",
    "\n",
    "# f"
   ]
  },
  {
   "cell_type": "code",
   "execution_count": 16,
   "metadata": {},
   "outputs": [
    {
     "data": {
      "text/plain": [
       "run_tests (generic function with 1 method)"
      ]
     },
     "metadata": {},
     "output_type": "display_data"
    }
   ],
   "source": [
    "# wrap timings in a function to avoid global variables causing problems\n",
    "function run_tests(N; n_threads = 1)\n",
    "    # times = zeros(N)\n",
    "    times = []\n",
    "    for i in 1:N\n",
    "        points = rand(SVector{3, Float64}, 1_000_000)\n",
    "        t0 = now()\n",
    "        labels = dbscan.DBSCAN(points, 0.0005, 3, n_threads = n_threads)\n",
    "        tf = now()\n",
    "        push!(times, canonicalize(tf - t0))\n",
    "    end\n",
    "    return times\n",
    "end"
   ]
  },
  {
   "cell_type": "code",
   "execution_count": 17,
   "metadata": {},
   "outputs": [
    {
     "data": {
      "text/plain": [
       "10-element Vector{Any}:\n",
       " 1 second, 146 milliseconds\n",
       " 1 second, 76 milliseconds\n",
       " 976 milliseconds\n",
       " 1 second, 63 milliseconds\n",
       " 955 milliseconds\n",
       " 1 second, 146 milliseconds\n",
       " 915 milliseconds\n",
       " 1 second, 90 milliseconds\n",
       " 1 second, 198 milliseconds\n",
       " 1 second, 32 milliseconds"
      ]
     },
     "metadata": {},
     "output_type": "display_data"
    }
   ],
   "source": [
    "times_1 = run_tests(10; n_threads = 1)"
   ]
  },
  {
   "cell_type": "code",
   "execution_count": 18,
   "metadata": {},
   "outputs": [
    {
     "data": {
      "text/plain": [
       "10-element Vector{Any}:\n",
       " 884 milliseconds\n",
       " 767 milliseconds\n",
       " 714 milliseconds\n",
       " 750 milliseconds\n",
       " 755 milliseconds\n",
       " 905 milliseconds\n",
       " 756 milliseconds\n",
       " 815 milliseconds\n",
       " 861 milliseconds\n",
       " 782 milliseconds"
      ]
     },
     "metadata": {},
     "output_type": "display_data"
    }
   ],
   "source": [
    "times_2 = run_tests(10; n_threads = 2)"
   ]
  },
  {
   "cell_type": "code",
   "execution_count": 19,
   "metadata": {},
   "outputs": [
    {
     "data": {
      "text/plain": [
       "10-element Vector{Any}:\n",
       " 632 milliseconds\n",
       " 732 milliseconds\n",
       " 644 milliseconds\n",
       " 683 milliseconds\n",
       " 811 milliseconds\n",
       " 656 milliseconds\n",
       " 736 milliseconds\n",
       " 663 milliseconds\n",
       " 635 milliseconds\n",
       " 651 milliseconds"
      ]
     },
     "metadata": {},
     "output_type": "display_data"
    }
   ],
   "source": [
    "times_4 = run_tests(10; n_threads = 4)"
   ]
  },
  {
   "cell_type": "code",
   "execution_count": 20,
   "metadata": {},
   "outputs": [],
   "source": [
    "# smaller dataset for plotting"
   ]
  },
  {
   "cell_type": "code",
   "execution_count": 21,
   "metadata": {},
   "outputs": [],
   "source": []
  }
 ],
 "metadata": {
  "kernelspec": {
   "display_name": "Julia 1.11.4",
   "language": "julia",
   "name": "julia-1.11"
  },
  "language_info": {
   "file_extension": ".jl",
   "mimetype": "application/julia",
   "name": "julia",
   "version": "1.11.4"
  }
 },
 "nbformat": 4,
 "nbformat_minor": 2
}
