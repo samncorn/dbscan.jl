{
 "cells": [
  {
   "cell_type": "code",
   "execution_count": 5,
   "metadata": {},
   "outputs": [
    {
     "name": "stderr",
     "output_type": "stream",
     "text": [
      "\u001b[32m\u001b[1m  Activating\u001b[22m\u001b[39m project at `~/projects/julia-projects/dbscan`\n"
     ]
    }
   ],
   "source": [
    "# activate the project environment\n",
    "using Pkg; Pkg.activate(joinpath(@__DIR__, \"..\"));"
   ]
  },
  {
   "cell_type": "code",
   "execution_count": 6,
   "metadata": {},
   "outputs": [],
   "source": [
    "using NearestNeighbors\n",
    "using dbscan\n",
    "using StaticArrays\n",
    "using Dates\n",
    "using CairoMakie\n",
    "using LoggingExtras"
   ]
  },
  {
   "cell_type": "code",
   "execution_count": 7,
   "metadata": {},
   "outputs": [
    {
     "data": {
      "text/plain": [
       "MinLevelLogger{FormatLogger, LogLevel}(FormatLogger(var\"#15#16\"(), VSCodeServer.IJuliaCore.IJuliaStdio{Base.PipeEndpoint, typeof(VSCodeServer.io_send_callback)}(IOContext(Base.PipeEndpoint(RawFD(16) open, 0 bytes waiting)), VSCodeServer.io_send_callback), true), Debug)"
      ]
     },
     "metadata": {},
     "output_type": "display_data"
    }
   ],
   "source": [
    "fmt_logger = FormatLogger(stdout) do io, args\n",
    "    # Write the module, level and message only\n",
    "    println(io, args._module, \" | \", \"[\", args.level, \"] \", args.message)\n",
    "end\n",
    "debuglogger = MinLevelLogger(fmt_logger, Logging.Debug)"
   ]
  },
  {
   "cell_type": "code",
   "execution_count": 8,
   "metadata": {},
   "outputs": [
    {
     "name": "stdout",
     "output_type": "stream",
     "text": [
      "Main | [Debug] test\n"
     ]
    }
   ],
   "source": [
    "with_logger(debuglogger) do\n",
    "    @debug \"test\"\n",
    "end"
   ]
  },
  {
   "cell_type": "code",
   "execution_count": 9,
   "metadata": {},
   "outputs": [
    {
     "data": {
      "text/plain": [
       "1000000-element Vector{SVector{2, Float64}}:\n",
       " [0.6077669570992329, 0.732542843685898]\n",
       " [0.5112663800857348, 0.9248530760916017]\n",
       " [0.19264572871786279, 0.042971325814131656]\n",
       " [0.22059397817014503, 0.9579496404110045]\n",
       " [0.7265168359963103, 0.033173504050312386]\n",
       " [0.9046103621829878, 0.9009224075233079]\n",
       " [0.06168457051287679, 0.35853876328810386]\n",
       " [0.1443194365810503, 0.7068815098935161]\n",
       " [0.0016324042330693178, 0.6781623623607461]\n",
       " [0.7789188598014426, 0.009572433135428549]\n",
       " ⋮\n",
       " [0.9681991861369066, 0.37527097242790575]\n",
       " [0.29619857613602973, 0.1482616482339718]\n",
       " [0.05424593789882126, 0.6293545923464494]\n",
       " [0.813423983227912, 0.9125255654229673]\n",
       " [0.37467383729016956, 0.8380753126848403]\n",
       " [0.9045043656131125, 0.08186845103555351]\n",
       " [0.8467286368053654, 0.8927284808723013]\n",
       " [0.32667273834194355, 0.10357774036505174]\n",
       " [0.5039775389775468, 0.34075368006340645]"
      ]
     },
     "metadata": {},
     "output_type": "display_data"
    }
   ],
   "source": [
    "# points = [SVector{3}(rand(3)) for i in 1:1_000_000]\n",
    "# points = map(i -> rand(3), 1:1_000_000)\n",
    "# points = [rand(3) for _ in 1:1_000_000]\n",
    "points = rand(SVector{2, Float64}, 1_000_000)"
   ]
  },
  {
   "cell_type": "code",
   "execution_count": 13,
   "metadata": {},
   "outputs": [
    {
     "data": {
      "text/plain": [
       "3"
      ]
     },
     "metadata": {},
     "output_type": "display_data"
    }
   ],
   "source": [
    "cluster_radius = 0.0005\n",
    "min_pts = 3"
   ]
  },
  {
   "cell_type": "code",
   "execution_count": 14,
   "metadata": {},
   "outputs": [
    {
     "name": "stdout",
     "output_type": "stream",
     "text": [
      "dbscan | [Debug] 272 milliseconds to build kdtree\n",
      "dbscan | [Debug] performing range searches\n",
      "dbscan | [Debug] starting thread 1\n",
      "dbscan | [Debug] 785 milliseconds to process thread 1\n",
      "dbscan | [Debug] 1 millisecond to merge clusters 1\n",
      "dbscan | [Debug] updating labels to cluster roots\n",
      "dbscan | [Debug] 2 milliseconds to update labels\n",
      "dbscan | [Debug] DBSCAN completed\n"
     ]
    },
    {
     "data": {
      "text/plain": [
       "ValueIterator for a Dict{Int64, Vector{Int64}} with 21331 entries. Values:\n",
       "  [344150, 384883, 554652, 995085]\n",
       "  [260227, 368282, 472226, 487119, 701636]\n",
       "  [260353, 476766, 536209, 912434]\n",
       "  [92032, 257967, 790985, 868976, 970347]\n",
       "  [70465, 193788, 333370, 625545]\n",
       "  [45343, 181972, 227978, 804659]\n",
       "  [461699, 521784, 641744, 685599]\n",
       "  [414860, 441304, 863549, 942406]\n",
       "  [9875, 546080, 723026, 859261, 997124]\n",
       "  [25486, 167712, 321739, 486929]\n",
       "  [144536, 432949, 675154, 977596]\n",
       "  [315096, 355117, 760437, 764237, 899287, 987141]\n",
       "  [225459, 286640, 332651, 535742, 562954, 668959, 680669, 700406]\n",
       "  [541474, 629587, 826171, 828325]\n",
       "  [343972, 496716, 633338, 751008]\n",
       "  [297827, 528623, 756498, 954453]\n",
       "  [412944, 513540, 606786, 760112, 837645]\n",
       "  [308609, 340317, 687001, 725940]\n",
       "  [121254, 431518, 782889, 871624]\n",
       "  ⋮"
      ]
     },
     "metadata": {},
     "output_type": "display_data"
    }
   ],
   "source": [
    "with_logger(debuglogger) do \n",
    "    clusters = dbscan.DBSCAN(points, cluster_radius, min_pts; n_threads = 1)\n",
    "end"
   ]
  },
  {
   "cell_type": "code",
   "execution_count": 15,
   "metadata": {},
   "outputs": [
    {
     "name": "stdout",
     "output_type": "stream",
     "text": [
      "dbscan | [Debug] 311 milliseconds to build kdtree\n",
      "dbscan | [Debug] performing range searches\n",
      "dbscan | [Debug] starting thread 4\n",
      "dbscan | [Debug] starting thread 1\n",
      "dbscan | [Debug] starting thread 2\n",
      "dbscan | [Debug] starting thread 3\n",
      "dbscan | [Debug] 211 milliseconds to process thread 1\n",
      "dbscan | [Debug] 218 milliseconds to process thread 4\n",
      "dbscan | [Debug] 230 milliseconds to process thread 3\n",
      "dbscan | [Debug] 232 milliseconds to process thread 2\n",
      "dbscan | [Debug] 30 milliseconds to merge clusters 1\n",
      "dbscan | [Debug] 11 milliseconds to merge clusters 2\n",
      "dbscan | [Debug] 15 milliseconds to merge clusters 3\n",
      "dbscan | [Debug] 17 milliseconds to merge clusters 4\n",
      "dbscan | [Debug] updating labels to cluster roots\n",
      "dbscan | [Debug] 2 milliseconds to update labels\n",
      "dbscan | [Debug] DBSCAN completed\n"
     ]
    },
    {
     "data": {
      "text/plain": [
       "ValueIterator for a Dict{Int64, Vector{Int64}} with 21305 entries. Values:\n",
       "  [152873, 221797, 776718, 984029]\n",
       "  [92032, 257967, 790985, 868976, 970347]\n",
       "  [70465, 193788, 333370, 625545]\n",
       "  [45343, 181972, 227978, 804659]\n",
       "  [461699, 521784, 641744, 685599]\n",
       "  [414860, 441304, 863549, 942406]\n",
       "  [9875, 546080, 723026, 859261, 997124]\n",
       "  [225459, 286640, 332651, 535742, 562954, 668959, 680669, 700406]\n",
       "  [541474, 629587, 826171, 828325]\n",
       "  [169380, 285280, 434731, 931306]\n",
       "  [297827, 528623, 756498, 954453]\n",
       "  [308609, 340317, 687001, 725940]\n",
       "  [121254, 431518, 782889, 871624]\n",
       "  [248591, 374664, 479231, 699903, 976589]\n",
       "  [1100, 106420, 221001, 402998, 942137]\n",
       "  [50493, 533678, 613152, 628586, 725317, 880719]\n",
       "  [189843, 374551, 628408, 673671, 880581]\n",
       "  [658859, 695661, 712503, 887619]\n",
       "  [243851, 266179, 751195, 996381]\n",
       "  ⋮"
      ]
     },
     "metadata": {},
     "output_type": "display_data"
    }
   ],
   "source": [
    "clusters = with_logger(debuglogger) do \n",
    "    dbscan.DBSCAN(points, cluster_radius, min_pts; n_threads = 4)\n",
    "end"
   ]
  },
  {
   "cell_type": "code",
   "execution_count": 16,
   "metadata": {},
   "outputs": [],
   "source": [
    "# for i in eachindex(clusters)\n",
    "#     if clusters[i] != 0 \n",
    "#         println(i, ' ', clusters[i])\n",
    "#         j = dbscan.find_root(i, clusters)\n",
    "#         clusters[i] = j\n",
    "#     end\n",
    "# end"
   ]
  },
  {
   "cell_type": "code",
   "execution_count": 17,
   "metadata": {},
   "outputs": [],
   "source": [
    "# for i in eachindex(clusters)\n",
    "#     if clusters[i] != 0 \n",
    "#         println(i, ' ', clusters[i])\n",
    "#     end\n",
    "# end"
   ]
  },
  {
   "cell_type": "code",
   "execution_count": 18,
   "metadata": {},
   "outputs": [
    {
     "data": {
      "text/plain": [
       "4"
      ]
     },
     "metadata": {},
     "output_type": "display_data"
    }
   ],
   "source": [
    "minimum(map(length, clusters))"
   ]
  },
  {
   "cell_type": "code",
   "execution_count": 19,
   "metadata": {},
   "outputs": [
    {
     "data": {
      "text/plain": [
       "KDTree{SVector{2, Float64}, Euclidean, Float64, SVector{2, Float64}}\n",
       "  Number of points: 1000000\n",
       "  Dimensions: 2\n",
       "  Metric: Euclidean(0.0)\n",
       "  Reordered: true"
      ]
     },
     "metadata": {},
     "output_type": "display_data"
    }
   ],
   "source": [
    "tree = KDTree(points)"
   ]
  },
  {
   "cell_type": "code",
   "execution_count": 20,
   "metadata": {},
   "outputs": [],
   "source": [
    "# inrange(tree, points[263613], cluster_radius)"
   ]
  },
  {
   "cell_type": "code",
   "execution_count": 21,
   "metadata": {},
   "outputs": [
    {
     "data": {
      "text/plain": [
       "draw_circle! (generic function with 1 method)"
      ]
     },
     "metadata": {},
     "output_type": "display_data"
    }
   ],
   "source": [
    "function draw_circle!(ax, x0, y0, r)\n",
    "    t = 0:0.01:2pi\n",
    "    x = x0 .+ r .* cos.(t)\n",
    "    y = y0 .+ r .* sin.(t)\n",
    "    lines!(ax, x, y; color = :black, alpha = 0.1)\n",
    "end"
   ]
  },
  {
   "cell_type": "code",
   "execution_count": 22,
   "metadata": {},
   "outputs": [],
   "source": [
    "# f = Figure()\n",
    "# ax = Axis(f[1, 1])\n",
    "\n",
    "# scatter!(points; color = :gray, markersize = 2.0)\n",
    "# for (id, cluster) in enumerate(clusters)\n",
    "#     scatter!(points[cluster])\n",
    "#     for (x0, y0) in points[cluster]\n",
    "#         draw_circle!(ax, x0, y0, cluster_radius)\n",
    "#     end\n",
    "# end\n",
    "\n",
    "# f"
   ]
  },
  {
   "cell_type": "code",
   "execution_count": 23,
   "metadata": {},
   "outputs": [
    {
     "data": {
      "text/plain": [
       "run_tests (generic function with 1 method)"
      ]
     },
     "metadata": {},
     "output_type": "display_data"
    }
   ],
   "source": [
    "# wrap timings in a function to avoid global variables causing problems\n",
    "function run_tests(N; n_threads = 1)\n",
    "    # times = zeros(N)\n",
    "    times = []\n",
    "    for i in 1:N\n",
    "        points = rand(SVector{3, Float64}, 1_000_000)\n",
    "        t0 = now()\n",
    "        labels = dbscan.DBSCAN(points, 0.0005, 3, n_threads = n_threads)\n",
    "        tf = now()\n",
    "        push!(times, canonicalize(tf - t0))\n",
    "    end\n",
    "    return times\n",
    "end"
   ]
  },
  {
   "cell_type": "code",
   "execution_count": 24,
   "metadata": {},
   "outputs": [
    {
     "data": {
      "text/plain": [
       "10-element Vector{Any}:\n",
       " 1 second, 306 milliseconds\n",
       " 1 second, 157 milliseconds\n",
       " 1 second, 498 milliseconds\n",
       " 1 second, 220 milliseconds\n",
       " 1 second, 356 milliseconds\n",
       " 1 second, 144 milliseconds\n",
       " 1 second, 157 milliseconds\n",
       " 1 second, 288 milliseconds\n",
       " 1 second, 160 milliseconds\n",
       " 1 second, 228 milliseconds"
      ]
     },
     "metadata": {},
     "output_type": "display_data"
    }
   ],
   "source": [
    "times_1 = run_tests(10; n_threads = 1)"
   ]
  },
  {
   "cell_type": "code",
   "execution_count": 25,
   "metadata": {},
   "outputs": [
    {
     "data": {
      "text/plain": [
       "10-element Vector{Any}:\n",
       " 1 second, 29 milliseconds\n",
       " 940 milliseconds\n",
       " 994 milliseconds\n",
       " 1 second, 28 milliseconds\n",
       " 874 milliseconds\n",
       " 1 second, 10 milliseconds\n",
       " 902 milliseconds\n",
       " 976 milliseconds\n",
       " 887 milliseconds\n",
       " 1 second, 27 milliseconds"
      ]
     },
     "metadata": {},
     "output_type": "display_data"
    }
   ],
   "source": [
    "times_2 = run_tests(10; n_threads = 2)"
   ]
  },
  {
   "cell_type": "code",
   "execution_count": 26,
   "metadata": {},
   "outputs": [
    {
     "data": {
      "text/plain": [
       "10-element Vector{Any}:\n",
       " 777 milliseconds\n",
       " 944 milliseconds\n",
       " 793 milliseconds\n",
       " 950 milliseconds\n",
       " 791 milliseconds\n",
       " 763 milliseconds\n",
       " 880 milliseconds\n",
       " 832 milliseconds\n",
       " 886 milliseconds\n",
       " 718 milliseconds"
      ]
     },
     "metadata": {},
     "output_type": "display_data"
    }
   ],
   "source": [
    "times_4 = run_tests(10; n_threads = 4)"
   ]
  },
  {
   "cell_type": "code",
   "execution_count": null,
   "metadata": {},
   "outputs": [],
   "source": [
    "# smaller dataset for plotting"
   ]
  },
  {
   "cell_type": "code",
   "execution_count": null,
   "metadata": {},
   "outputs": [],
   "source": []
  }
 ],
 "metadata": {
  "kernelspec": {
   "display_name": "Julia 1.11.4",
   "language": "julia",
   "name": "julia-1.11"
  },
  "language_info": {
   "file_extension": ".jl",
   "mimetype": "application/julia",
   "name": "julia",
   "version": "1.11.4"
  }
 },
 "nbformat": 4,
 "nbformat_minor": 2
}
