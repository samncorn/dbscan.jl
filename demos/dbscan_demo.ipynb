{
 "cells": [
  {
   "cell_type": "code",
   "execution_count": 1,
   "metadata": {},
   "outputs": [
    {
     "name": "stderr",
     "output_type": "stream",
     "text": [
      "\u001b[32m\u001b[1m  Activating\u001b[22m\u001b[39m project at `~/projects/julia-projects/dbscan`\n"
     ]
    }
   ],
   "source": [
    "# activate the project environment\n",
    "using Pkg; Pkg.activate(joinpath(@__DIR__, \"..\"));"
   ]
  },
  {
   "cell_type": "code",
   "execution_count": 2,
   "metadata": {},
   "outputs": [],
   "source": [
    "using NearestNeighbors\n",
    "using dbscan\n",
    "using StaticArrays\n",
    "using Dates\n",
    "using CairoMakie\n",
    "using LoggingExtras"
   ]
  },
  {
   "cell_type": "code",
   "execution_count": 3,
   "metadata": {},
   "outputs": [
    {
     "data": {
      "text/plain": [
       "MinLevelLogger{FormatLogger, LogLevel}(FormatLogger(var\"#11#12\"(), VSCodeServer.IJuliaCore.IJuliaStdio{Base.PipeEndpoint, typeof(VSCodeServer.io_send_callback)}(IOContext(Base.PipeEndpoint(RawFD(16) open, 0 bytes waiting)), VSCodeServer.io_send_callback), true), Debug)"
      ]
     },
     "metadata": {},
     "output_type": "display_data"
    }
   ],
   "source": [
    "fmt_logger = FormatLogger(stdout) do io, args\n",
    "    # Write the module, level and message only\n",
    "    println(io, args._module, \" | \", \"[\", args.level, \"] \", args.message)\n",
    "end\n",
    "debuglogger = MinLevelLogger(fmt_logger, Logging.Debug)"
   ]
  },
  {
   "cell_type": "code",
   "execution_count": 4,
   "metadata": {},
   "outputs": [
    {
     "name": "stdout",
     "output_type": "stream",
     "text": [
      "Main | [Debug] test\n"
     ]
    }
   ],
   "source": [
    "with_logger(debuglogger) do\n",
    "    @debug \"test\"\n",
    "end"
   ]
  },
  {
   "cell_type": "code",
   "execution_count": 5,
   "metadata": {},
   "outputs": [
    {
     "data": {
      "text/plain": [
       "1000000-element Vector{SVector{2, Float64}}:\n",
       " [0.5042821870381974, 0.45060290167686723]\n",
       " [0.35925476462073536, 0.0008742008554812886]\n",
       " [0.14594993007568058, 0.5783671660335128]\n",
       " [0.25172110091830435, 0.2695602461836394]\n",
       " [0.13916936602793817, 0.08291187986567916]\n",
       " [0.6884718885455005, 0.8446891190363194]\n",
       " [0.3901174967484462, 0.06328391688093582]\n",
       " [0.5032220002307181, 0.28450398479264294]\n",
       " [0.31252242136590724, 0.031051325614298464]\n",
       " [0.2792451862167129, 0.8149933282070436]\n",
       " ⋮\n",
       " [0.6557352855746054, 0.727204119590567]\n",
       " [0.22145939697217554, 0.24520165996746546]\n",
       " [0.5358638131594505, 0.9588674972912131]\n",
       " [0.4851815453516828, 0.6726009523316184]\n",
       " [0.8861640912549457, 0.8459634949367411]\n",
       " [0.08116777865733926, 0.8782461755714192]\n",
       " [0.8265461437067768, 0.2639538223496041]\n",
       " [0.7350385968162959, 0.2612922725024981]\n",
       " [0.9400204007965723, 0.8131077188320192]"
      ]
     },
     "metadata": {},
     "output_type": "display_data"
    }
   ],
   "source": [
    "# points = [SVector{3}(rand(3)) for i in 1:1_000_000]\n",
    "# points = map(i -> rand(3), 1:1_000_000)\n",
    "# points = [rand(3) for _ in 1:1_000_000]\n",
    "points = rand(SVector{2, Float64}, 1_000_000)"
   ]
  },
  {
   "cell_type": "code",
   "execution_count": 6,
   "metadata": {},
   "outputs": [
    {
     "data": {
      "text/plain": [
       "3"
      ]
     },
     "metadata": {},
     "output_type": "display_data"
    }
   ],
   "source": [
    "cluster_radius = 0.005\n",
    "min_pts = 3"
   ]
  },
  {
   "cell_type": "code",
   "execution_count": 7,
   "metadata": {},
   "outputs": [
    {
     "name": "stdout",
     "output_type": "stream",
     "text": [
      "dbscan | [Debug] performing range searches\n",
      "dbscan | [Debug] starting thread 1\n",
      "dbscan | [Debug] thread 1 completed\n",
      "dbscan | [Debug] merged 1 edge clusters\n",
      "dbscan | [Debug] updating labels to cluster roots\n",
      "dbscan | [Debug] DBSCAN completed\n"
     ]
    },
    {
     "data": {
      "text/plain": [
       "ValueIterator for a Dict{Int64, Vector{Int64}} with 1 entry. Values:\n",
       "  [1, 2, 3, 4, 5, 6, 7, 8, 9, 10  …  999991, 999992, 999993, 999994, 999995, 99…"
      ]
     },
     "metadata": {},
     "output_type": "display_data"
    }
   ],
   "source": [
    "with_logger(debuglogger) do \n",
    "    clusters = dbscan.DBSCAN(points, cluster_radius, min_pts; n_threads = 1)\n",
    "end"
   ]
  },
  {
   "cell_type": "code",
   "execution_count": 8,
   "metadata": {},
   "outputs": [
    {
     "name": "stdout",
     "output_type": "stream",
     "text": [
      "dbscan | [Debug] performing range searches\n",
      "dbscan | [Debug] starting thread 4\n",
      "dbscan | [Debug] starting thread 1\n",
      "dbscan | [Debug] starting thread 2\n",
      "dbscan | [Debug] starting thread 3\n",
      "dbscan | [Debug] thread 4 completed\n",
      "dbscan | [Debug] thread 2 completed\n",
      "dbscan | [Debug] thread 3 completed\n",
      "dbscan | [Debug] thread 1 completed\n",
      "dbscan | [Debug] merged 1 edge clusters\n",
      "dbscan | [Debug] merged 2 edge clusters\n",
      "dbscan | [Debug] merged 3 edge clusters\n",
      "dbscan | [Debug] merged 4 edge clusters\n",
      "dbscan | [Debug] updating labels to cluster roots\n",
      "dbscan | [Debug] DBSCAN completed\n"
     ]
    },
    {
     "data": {
      "text/plain": [
       "ValueIterator for a Dict{Int64, Vector{Int64}} with 1 entry. Values:\n",
       "  [1, 2, 3, 4, 5, 6, 7, 8, 9, 10  …  999991, 999992, 999993, 999994, 999995, 99…"
      ]
     },
     "metadata": {},
     "output_type": "display_data"
    }
   ],
   "source": [
    "clusters = with_logger(debuglogger) do \n",
    "    dbscan.DBSCAN(points, cluster_radius, min_pts; n_threads = 4)\n",
    "end"
   ]
  },
  {
   "cell_type": "code",
   "execution_count": 9,
   "metadata": {},
   "outputs": [],
   "source": [
    "# for i in eachindex(clusters)\n",
    "#     if clusters[i] != 0 \n",
    "#         println(i, ' ', clusters[i])\n",
    "#         j = dbscan.find_root(i, clusters)\n",
    "#         clusters[i] = j\n",
    "#     end\n",
    "# end"
   ]
  },
  {
   "cell_type": "code",
   "execution_count": 10,
   "metadata": {},
   "outputs": [],
   "source": [
    "# for i in eachindex(clusters)\n",
    "#     if clusters[i] != 0 \n",
    "#         println(i, ' ', clusters[i])\n",
    "#     end\n",
    "# end"
   ]
  },
  {
   "cell_type": "code",
   "execution_count": 11,
   "metadata": {},
   "outputs": [
    {
     "data": {
      "text/plain": [
       "1000000"
      ]
     },
     "metadata": {},
     "output_type": "display_data"
    }
   ],
   "source": [
    "minimum(map(length, clusters))"
   ]
  },
  {
   "cell_type": "code",
   "execution_count": 12,
   "metadata": {},
   "outputs": [
    {
     "data": {
      "text/plain": [
       "KDTree{SVector{2, Float64}, Euclidean, Float64, SVector{2, Float64}}\n",
       "  Number of points: 1000000\n",
       "  Dimensions: 2\n",
       "  Metric: Euclidean(0.0)\n",
       "  Reordered: true"
      ]
     },
     "metadata": {},
     "output_type": "display_data"
    }
   ],
   "source": [
    "tree = KDTree(points)"
   ]
  },
  {
   "cell_type": "code",
   "execution_count": 13,
   "metadata": {},
   "outputs": [],
   "source": [
    "# inrange(tree, points[263613], cluster_radius)"
   ]
  },
  {
   "cell_type": "code",
   "execution_count": 14,
   "metadata": {},
   "outputs": [
    {
     "data": {
      "text/plain": [
       "draw_circle! (generic function with 1 method)"
      ]
     },
     "metadata": {},
     "output_type": "display_data"
    }
   ],
   "source": [
    "function draw_circle!(ax, x0, y0, r)\n",
    "    t = 0:0.01:2pi\n",
    "    x = x0 .+ r .* cos.(t)\n",
    "    y = y0 .+ r .* sin.(t)\n",
    "    lines!(ax, x, y; color = :black, alpha = 0.1)\n",
    "end"
   ]
  },
  {
   "cell_type": "code",
   "execution_count": 15,
   "metadata": {},
   "outputs": [],
   "source": [
    "# f = Figure()\n",
    "# ax = Axis(f[1, 1])\n",
    "\n",
    "# scatter!(points; color = :gray, markersize = 2.0)\n",
    "# for (id, cluster) in enumerate(clusters)\n",
    "#     scatter!(points[cluster])\n",
    "#     for (x0, y0) in points[cluster]\n",
    "#         draw_circle!(ax, x0, y0, cluster_radius)\n",
    "#     end\n",
    "# end\n",
    "\n",
    "# f"
   ]
  },
  {
   "cell_type": "code",
   "execution_count": 26,
   "metadata": {},
   "outputs": [
    {
     "data": {
      "text/plain": [
       "run_tests (generic function with 1 method)"
      ]
     },
     "metadata": {},
     "output_type": "display_data"
    }
   ],
   "source": [
    "# wrap timings in a function to avoid global variables causing problems\n",
    "function run_tests(N; n_threads = 1)\n",
    "    # times = zeros(N)\n",
    "    times = []\n",
    "    for i in 1:N\n",
    "        points = rand(SVector{3, Float64}, 1_000_000)\n",
    "        t0 = now()\n",
    "        labels = dbscan.DBSCAN(points, 0.01, 3, n_threads = n_threads)\n",
    "        tf = now()\n",
    "        push!(times, canonicalize(tf - t0))\n",
    "    end\n",
    "    return times\n",
    "end"
   ]
  },
  {
   "cell_type": "code",
   "execution_count": 27,
   "metadata": {},
   "outputs": [
    {
     "data": {
      "text/plain": [
       "10-element Vector{Any}:\n",
       " 2 seconds, 879 milliseconds\n",
       " 2 seconds, 899 milliseconds\n",
       " 3 seconds, 53 milliseconds\n",
       " 2 seconds, 964 milliseconds\n",
       " 2 seconds, 970 milliseconds\n",
       " 2 seconds, 974 milliseconds\n",
       " 2 seconds, 859 milliseconds\n",
       " 2 seconds, 746 milliseconds\n",
       " 2 seconds, 936 milliseconds\n",
       " 2 seconds, 862 milliseconds"
      ]
     },
     "metadata": {},
     "output_type": "display_data"
    }
   ],
   "source": [
    "times_1 = run_tests(10; n_threads = 1)"
   ]
  },
  {
   "cell_type": "code",
   "execution_count": 28,
   "metadata": {},
   "outputs": [
    {
     "data": {
      "text/plain": [
       "10-element Vector{Any}:\n",
       " 2 seconds, 919 milliseconds\n",
       " 3 seconds, 278 milliseconds\n",
       " 3 seconds, 52 milliseconds\n",
       " 3 seconds, 107 milliseconds\n",
       " 3 seconds, 191 milliseconds\n",
       " 3 seconds, 195 milliseconds\n",
       " 3 seconds, 205 milliseconds\n",
       " 3 seconds, 175 milliseconds\n",
       " 3 seconds, 228 milliseconds\n",
       " 3 seconds, 151 milliseconds"
      ]
     },
     "metadata": {},
     "output_type": "display_data"
    }
   ],
   "source": [
    "times_2 = run_tests(10; n_threads = 2)"
   ]
  },
  {
   "cell_type": "code",
   "execution_count": 29,
   "metadata": {},
   "outputs": [
    {
     "data": {
      "text/plain": [
       "10-element Vector{Any}:\n",
       " 3 seconds, 481 milliseconds\n",
       " 3 seconds, 487 milliseconds\n",
       " 3 seconds, 462 milliseconds\n",
       " 3 seconds, 449 milliseconds\n",
       " 3 seconds, 511 milliseconds\n",
       " 3 seconds, 331 milliseconds\n",
       " 3 seconds, 585 milliseconds\n",
       " 3 seconds, 358 milliseconds\n",
       " 3 seconds, 374 milliseconds\n",
       " 3 seconds, 607 milliseconds"
      ]
     },
     "metadata": {},
     "output_type": "display_data"
    }
   ],
   "source": [
    "times_4 = run_tests(10; n_threads = 4)"
   ]
  },
  {
   "cell_type": "code",
   "execution_count": 20,
   "metadata": {},
   "outputs": [],
   "source": [
    "# smaller dataset for plotting"
   ]
  },
  {
   "cell_type": "code",
   "execution_count": null,
   "metadata": {},
   "outputs": [],
   "source": []
  }
 ],
 "metadata": {
  "kernelspec": {
   "display_name": "Julia 1.11.4",
   "language": "julia",
   "name": "julia-1.11"
  },
  "language_info": {
   "file_extension": ".jl",
   "mimetype": "application/julia",
   "name": "julia",
   "version": "1.11.4"
  }
 },
 "nbformat": 4,
 "nbformat_minor": 2
}
